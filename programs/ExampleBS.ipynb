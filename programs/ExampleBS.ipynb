{
 "cells": [
  {
   "cell_type": "code",
   "execution_count": 11,
   "id": "0026a81f-f256-461b-978a-2bb6401d6cc7",
   "metadata": {},
   "outputs": [],
   "source": [
    "from bs4 import BeautifulSoup\n",
    "html_content = \"\"\"\n",
    "<html>\n",
    "<head><title>This is an Example</title></head>\n",
    "<body>\n",
    "<div class = 'my_class'>\n",
    "<h1>Welcome To Beautiful Soup</h1>\n",
    "<p>This is an example paragraph</p>\n",
    "<p>This is an example para2</p>\n",
    "<p>This is an example para3</p>\n",
    "<ul>\n",
    "<li>Item1</li>\n",
    "<li>Item2</li>\n",
    "<li>Item3</li>\n",
    "</ul>\n",
    "</div>\n",
    "</body>\n",
    "</html>\n",
    "\"\"\"\n",
    "soup = BeautifulSoup(html_content, 'html.parser')"
   ]
  },
  {
   "cell_type": "code",
   "execution_count": 12,
   "id": "e7c0d0e5-0e1e-4986-9f23-dc8b9cbc39d6",
   "metadata": {},
   "outputs": [
    {
     "data": {
      "text/plain": [
       "'This is an Example'"
      ]
     },
     "execution_count": 12,
     "metadata": {},
     "output_type": "execute_result"
    }
   ],
   "source": [
    "title = soup.title.text\n",
    "title"
   ]
  },
  {
   "cell_type": "code",
   "execution_count": 13,
   "id": "045cbe92-ad85-4560-9dd1-1f642e747c08",
   "metadata": {},
   "outputs": [
    {
     "data": {
      "text/plain": [
       "'This is an example paragraph'"
      ]
     },
     "execution_count": 13,
     "metadata": {},
     "output_type": "execute_result"
    }
   ],
   "source": [
    "para = soup.p\n",
    "para.text"
   ]
  },
  {
   "cell_type": "markdown",
   "id": "54a32b59-c490-4a3d-847b-4c31ea2aaf18",
   "metadata": {},
   "source": [
    "### Find All Method"
   ]
  },
  {
   "cell_type": "code",
   "execution_count": 14,
   "id": "fee17cd0-8cb7-411f-9008-8bf03fa405c2",
   "metadata": {},
   "outputs": [
    {
     "name": "stdout",
     "output_type": "stream",
     "text": [
      "This is an example paragraph\n",
      "This is an example para2\n",
      "This is an example para3\n"
     ]
    }
   ],
   "source": [
    "para_list = soup.find_all('p')\n",
    "for para in para_list:\n",
    "    print(para.text)"
   ]
  },
  {
   "cell_type": "markdown",
   "id": "a250af17-5bb6-4e84-b1a6-dc768729fc26",
   "metadata": {},
   "source": [
    "### Navigating via parent and sibling"
   ]
  },
  {
   "cell_type": "code",
   "execution_count": 15,
   "id": "e9309bf6-378c-4575-927f-24d82715a443",
   "metadata": {},
   "outputs": [],
   "source": [
    "from bs4 import BeautifulSoup\n",
    "html_content = \"\"\"\n",
    "<html>\n",
    "<body>\n",
    "<div class = 'my_class'>\n",
    "<h1>Welcome To Beautiful Soup</h1>\n",
    "<p>This is an example paragraph</p>\n",
    "<ul>\n",
    "<li>Item1</li>\n",
    "<li>Item2</li>\n",
    "<li>Item3</li>\n",
    "</ul>\n",
    "</div>\n",
    "</body>\n",
    "</html>\n",
    "\"\"\"\n",
    "soup = BeautifulSoup(html_content, 'html.parser')"
   ]
  },
  {
   "cell_type": "code",
   "execution_count": 22,
   "id": "88e66832-a835-4421-9c27-12a0812e7867",
   "metadata": {},
   "outputs": [
    {
     "name": "stdout",
     "output_type": "stream",
     "text": [
      "<div class=\"my_class\">\n",
      "<h1>Welcome To Beautiful Soup</h1>\n",
      "<p>This is an example paragraph</p>\n",
      "<ul>\n",
      "<li>Item1</li>\n",
      "<li>Item2</li>\n",
      "<li>Item3</li>\n",
      "</ul>\n",
      "</div>\n"
     ]
    }
   ],
   "source": [
    "h1 = soup.h1\n",
    "parent_div = h1.parent\n",
    "print(parent_div)"
   ]
  },
  {
   "cell_type": "code",
   "execution_count": 23,
   "id": "212defc4-e10f-4951-b1c1-db4e90a74b7b",
   "metadata": {},
   "outputs": [
    {
     "name": "stdout",
     "output_type": "stream",
     "text": [
      "<h1>Welcome To Beautiful Soup</h1>\n"
     ]
    }
   ],
   "source": [
    "#accessing sibling\n",
    "#previousxxxxxxxx\n",
    "paragraph = soup.p\n",
    "previous_sibling = paragraph.find_previous_sibling()\n",
    "print(previous_sibling)"
   ]
  },
  {
   "cell_type": "code",
   "execution_count": 25,
   "id": "d5d8d92b-1521-41aa-a3f8-3142f888ef4f",
   "metadata": {},
   "outputs": [
    {
     "name": "stdout",
     "output_type": "stream",
     "text": [
      "<ul>\n",
      "<li>Item1</li>\n",
      "<li>Item2</li>\n",
      "<li>Item3</li>\n",
      "</ul>\n"
     ]
    }
   ],
   "source": [
    "#next\n",
    "next_sibling = paragraph.find_next_sibling()\n",
    "\n",
    "print(next_sibling)"
   ]
  },
  {
   "cell_type": "markdown",
   "id": "f57e7d46-4a32-42bc-aa92-7f1daabd1bd2",
   "metadata": {},
   "source": [
    "# Child Navigation"
   ]
  },
  {
   "cell_type": "code",
   "execution_count": 27,
   "id": "aee473bc-6c57-4147-9693-a0dbce94eb1c",
   "metadata": {},
   "outputs": [
    {
     "name": "stdout",
     "output_type": "stream",
     "text": [
      "Child Elements of <div>:\n",
      "\n",
      "\n",
      "<h1>Welcome To Beautiful Soup</h1>\n",
      "\n",
      "\n",
      "<p>This is an example paragraph</p>\n",
      "\n",
      "\n",
      "<ul>\n",
      "<li>Item1</li>\n",
      "<li>Item2</li>\n",
      "<li>Item3</li>\n",
      "</ul>\n",
      "\n",
      "\n"
     ]
    }
   ],
   "source": [
    "# Accessing Child Elements\n",
    "div = soup.div\n",
    "children = div.children \n",
    "\n",
    "print('Child Elements of <div>:')\n",
    "for child in children:\n",
    "    print(child)"
   ]
  },
  {
   "cell_type": "markdown",
   "id": "020791a0-0553-47b7-9e30-c8323bdf3766",
   "metadata": {},
   "source": [
    "## Accessing using class attributes\n"
   ]
  },
  {
   "cell_type": "code",
   "execution_count": 28,
   "id": "d65faae3-15dc-471f-8e02-80befe7642cf",
   "metadata": {},
   "outputs": [
    {
     "data": {
      "text/plain": [
       "[<div class=\"my_class\">\n",
       " <h1>Welcome To Beautiful Soup</h1>\n",
       " <p>This is an example paragraph</p>\n",
       " <ul>\n",
       " <li>Item1</li>\n",
       " <li>Item2</li>\n",
       " <li>Item3</li>\n",
       " </ul>\n",
       " </div>]"
      ]
     },
     "execution_count": 28,
     "metadata": {},
     "output_type": "execute_result"
    }
   ],
   "source": [
    "# Searching CSS and Class Attributes \n",
    "elements = soup.find_all('div', class_='my_class')\n",
    "elements"
   ]
  },
  {
   "cell_type": "code",
   "execution_count": null,
   "id": "fe8b9d7c-68fe-4a29-be94-acfd91cef9c6",
   "metadata": {},
   "outputs": [],
   "source": []
  }
 ],
 "metadata": {
  "kernelspec": {
   "display_name": "Python 3 (ipykernel)",
   "language": "python",
   "name": "python3"
  },
  "language_info": {
   "codemirror_mode": {
    "name": "ipython",
    "version": 3
   },
   "file_extension": ".py",
   "mimetype": "text/x-python",
   "name": "python",
   "nbconvert_exporter": "python",
   "pygments_lexer": "ipython3",
   "version": "3.9.16"
  }
 },
 "nbformat": 4,
 "nbformat_minor": 5
}
