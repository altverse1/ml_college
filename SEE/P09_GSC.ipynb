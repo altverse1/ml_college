{
 "cells": [
  {
   "cell_type": "code",
   "execution_count": 1,
   "metadata": {},
   "outputs": [],
   "source": [
    "import pandas as pd\n",
    "import numpy as np\n",
    "from sklearn.model_selection import GridSearchCV\n",
    "from sklearn.ensemble import RandomForestClassifier"
   ]
  },
  {
   "cell_type": "code",
   "execution_count": 2,
   "metadata": {},
   "outputs": [
    {
     "data": {
      "text/html": [
       "<div>\n",
       "<style scoped>\n",
       "    .dataframe tbody tr th:only-of-type {\n",
       "        vertical-align: middle;\n",
       "    }\n",
       "\n",
       "    .dataframe tbody tr th {\n",
       "        vertical-align: top;\n",
       "    }\n",
       "\n",
       "    .dataframe thead th {\n",
       "        text-align: right;\n",
       "    }\n",
       "</style>\n",
       "<table border=\"1\" class=\"dataframe\">\n",
       "  <thead>\n",
       "    <tr style=\"text-align: right;\">\n",
       "      <th></th>\n",
       "      <th>age</th>\n",
       "      <th>sex</th>\n",
       "      <th>cp</th>\n",
       "      <th>trestbps</th>\n",
       "      <th>chol</th>\n",
       "      <th>fbs</th>\n",
       "      <th>restecg</th>\n",
       "      <th>thalach</th>\n",
       "      <th>exang</th>\n",
       "      <th>oldpeak</th>\n",
       "      <th>slope</th>\n",
       "      <th>ca</th>\n",
       "      <th>thal</th>\n",
       "      <th>target</th>\n",
       "    </tr>\n",
       "  </thead>\n",
       "  <tbody>\n",
       "    <tr>\n",
       "      <th>0</th>\n",
       "      <td>63</td>\n",
       "      <td>1</td>\n",
       "      <td>3</td>\n",
       "      <td>145</td>\n",
       "      <td>233</td>\n",
       "      <td>1</td>\n",
       "      <td>0</td>\n",
       "      <td>150</td>\n",
       "      <td>0</td>\n",
       "      <td>2.3</td>\n",
       "      <td>0</td>\n",
       "      <td>0</td>\n",
       "      <td>1</td>\n",
       "      <td>1</td>\n",
       "    </tr>\n",
       "    <tr>\n",
       "      <th>1</th>\n",
       "      <td>37</td>\n",
       "      <td>1</td>\n",
       "      <td>2</td>\n",
       "      <td>130</td>\n",
       "      <td>250</td>\n",
       "      <td>0</td>\n",
       "      <td>1</td>\n",
       "      <td>187</td>\n",
       "      <td>0</td>\n",
       "      <td>3.5</td>\n",
       "      <td>0</td>\n",
       "      <td>0</td>\n",
       "      <td>2</td>\n",
       "      <td>1</td>\n",
       "    </tr>\n",
       "    <tr>\n",
       "      <th>2</th>\n",
       "      <td>41</td>\n",
       "      <td>0</td>\n",
       "      <td>1</td>\n",
       "      <td>130</td>\n",
       "      <td>204</td>\n",
       "      <td>0</td>\n",
       "      <td>0</td>\n",
       "      <td>172</td>\n",
       "      <td>0</td>\n",
       "      <td>1.4</td>\n",
       "      <td>2</td>\n",
       "      <td>0</td>\n",
       "      <td>2</td>\n",
       "      <td>1</td>\n",
       "    </tr>\n",
       "    <tr>\n",
       "      <th>3</th>\n",
       "      <td>56</td>\n",
       "      <td>1</td>\n",
       "      <td>1</td>\n",
       "      <td>120</td>\n",
       "      <td>236</td>\n",
       "      <td>0</td>\n",
       "      <td>1</td>\n",
       "      <td>178</td>\n",
       "      <td>0</td>\n",
       "      <td>0.8</td>\n",
       "      <td>2</td>\n",
       "      <td>0</td>\n",
       "      <td>2</td>\n",
       "      <td>1</td>\n",
       "    </tr>\n",
       "    <tr>\n",
       "      <th>4</th>\n",
       "      <td>57</td>\n",
       "      <td>0</td>\n",
       "      <td>0</td>\n",
       "      <td>120</td>\n",
       "      <td>354</td>\n",
       "      <td>0</td>\n",
       "      <td>1</td>\n",
       "      <td>163</td>\n",
       "      <td>1</td>\n",
       "      <td>0.6</td>\n",
       "      <td>2</td>\n",
       "      <td>0</td>\n",
       "      <td>2</td>\n",
       "      <td>1</td>\n",
       "    </tr>\n",
       "  </tbody>\n",
       "</table>\n",
       "</div>"
      ],
      "text/plain": [
       "   age  sex  cp  trestbps  chol  fbs  restecg  thalach  exang  oldpeak  slope  \\\n",
       "0   63    1   3       145   233    1        0      150      0      2.3      0   \n",
       "1   37    1   2       130   250    0        1      187      0      3.5      0   \n",
       "2   41    0   1       130   204    0        0      172      0      1.4      2   \n",
       "3   56    1   1       120   236    0        1      178      0      0.8      2   \n",
       "4   57    0   0       120   354    0        1      163      1      0.6      2   \n",
       "\n",
       "   ca  thal  target  \n",
       "0   0     1       1  \n",
       "1   0     2       1  \n",
       "2   0     2       1  \n",
       "3   0     2       1  \n",
       "4   0     2       1  "
      ]
     },
     "execution_count": 2,
     "metadata": {},
     "output_type": "execute_result"
    }
   ],
   "source": [
    "df = pd.read_csv('../Datasets/heart-disease .csv')\n",
    "df.head()"
   ]
  },
  {
   "cell_type": "code",
   "execution_count": 3,
   "metadata": {},
   "outputs": [
    {
     "data": {
      "text/plain": [
       "age         0\n",
       "sex         0\n",
       "cp          0\n",
       "trestbps    0\n",
       "chol        0\n",
       "fbs         0\n",
       "restecg     0\n",
       "thalach     0\n",
       "exang       0\n",
       "oldpeak     0\n",
       "slope       0\n",
       "ca          0\n",
       "thal        0\n",
       "target      0\n",
       "dtype: int64"
      ]
     },
     "execution_count": 3,
     "metadata": {},
     "output_type": "execute_result"
    }
   ],
   "source": [
    "df.isnull().sum()"
   ]
  },
  {
   "cell_type": "code",
   "execution_count": 4,
   "metadata": {},
   "outputs": [],
   "source": [
    "from sklearn.model_selection import train_test_split\n",
    "x_train,x_test,y_train,y_test = train_test_split(df.drop(columns=['target']),df['target'],test_size=0.25,random_state=54)"
   ]
  },
  {
   "cell_type": "code",
   "execution_count": 5,
   "metadata": {},
   "outputs": [
    {
     "name": "stderr",
     "output_type": "stream",
     "text": [
      "c:\\Users\\anant\\anaconda3\\envs\\env\\Lib\\site-packages\\sklearn\\model_selection\\_validation.py:378: FitFailedWarning: \n",
      "1500 fits failed out of a total of 7500.\n",
      "The score on these train-test partitions for these parameters will be set to nan.\n",
      "If these failures are not expected, you can try to debug them by setting error_score='raise'.\n",
      "\n",
      "Below are more details about the failures:\n",
      "--------------------------------------------------------------------------------\n",
      "1500 fits failed with the following error:\n",
      "Traceback (most recent call last):\n",
      "  File \"c:\\Users\\anant\\anaconda3\\envs\\env\\Lib\\site-packages\\sklearn\\model_selection\\_validation.py\", line 686, in _fit_and_score\n",
      "    estimator.fit(X_train, y_train, **fit_params)\n",
      "  File \"c:\\Users\\anant\\anaconda3\\envs\\env\\Lib\\site-packages\\sklearn\\ensemble\\_forest.py\", line 340, in fit\n",
      "    self._validate_params()\n",
      "  File \"c:\\Users\\anant\\anaconda3\\envs\\env\\Lib\\site-packages\\sklearn\\base.py\", line 600, in _validate_params\n",
      "    validate_parameter_constraints(\n",
      "  File \"c:\\Users\\anant\\anaconda3\\envs\\env\\Lib\\site-packages\\sklearn\\utils\\_param_validation.py\", line 97, in validate_parameter_constraints\n",
      "    raise InvalidParameterError(\n",
      "sklearn.utils._param_validation.InvalidParameterError: The 'min_samples_split' parameter of RandomForestClassifier must be an int in the range [2, inf) or a float in the range (0.0, 1.0]. Got 1 instead.\n",
      "\n",
      "  warnings.warn(some_fits_failed_message, FitFailedWarning)\n",
      "c:\\Users\\anant\\anaconda3\\envs\\env\\Lib\\site-packages\\sklearn\\model_selection\\_search.py:952: UserWarning: One or more of the test scores are non-finite: [       nan        nan        nan        nan        nan 0.65750988\n",
      " 0.73577075 0.78399209 0.78003953 0.78478261 0.77193676 0.72233202\n",
      " 0.73063241 0.7541502  0.75316206 0.68280632 0.71363636 0.75790514\n",
      " 0.76264822 0.80671937 0.67865613 0.70968379 0.75770751 0.75790514\n",
      " 0.77470356        nan        nan        nan        nan        nan\n",
      " 0.66403162 0.71343874 0.75671937 0.79802372 0.77075099 0.6916996\n",
      " 0.70039526 0.76699605 0.75770751 0.77964427 0.71383399 0.72213439\n",
      " 0.73932806 0.75316206 0.78399209 0.69130435 0.75849802 0.78399209\n",
      " 0.81106719 0.78754941        nan        nan        nan        nan\n",
      "        nan 0.7229249  0.74881423 0.75355731 0.81067194 0.81482213\n",
      " 0.75731225 0.74881423 0.75750988 0.7715415  0.80671937 0.68339921\n",
      " 0.7444664  0.79249012 0.81086957 0.81106719 0.74565217 0.78359684\n",
      " 0.76086957 0.78438735 0.77588933        nan        nan        nan\n",
      "        nan        nan 0.69130435 0.77549407 0.78873518 0.79762846\n",
      " 0.81482213 0.73063241 0.7527668  0.77588933 0.79229249 0.7972332\n",
      " 0.73142292 0.76225296 0.78003953 0.81067194 0.80573123 0.71818182\n",
      " 0.77509881 0.79288538 0.79268775 0.77529644        nan        nan\n",
      "        nan        nan        nan 0.69150198 0.81027668 0.78893281\n",
      " 0.80592885 0.81482213 0.70928854 0.76679842 0.8055336  0.76679842\n",
      " 0.78833992 0.70454545 0.793083   0.78003953 0.80197628 0.79268775\n",
      " 0.66956522 0.73181818 0.80671937 0.78913043 0.80177866        nan\n",
      "        nan        nan        nan        nan 0.68241107 0.76166008\n",
      " 0.76640316 0.77075099 0.83715415 0.73537549 0.75375494 0.80612648\n",
      " 0.80237154 0.79743083 0.77905138 0.77075099 0.77411067 0.78873518\n",
      " 0.7798419  0.71719368 0.71778656 0.74841897 0.77588933 0.7756917\n",
      "        nan        nan        nan        nan        nan 0.7187747\n",
      " 0.77509881 0.7270751  0.76166008 0.79762846 0.7312253  0.74881423\n",
      " 0.76640316 0.75750988 0.74901186 0.70098814 0.75750988 0.7673913\n",
      " 0.76699605 0.7756917  0.7229249  0.7798419  0.80652174 0.77094862\n",
      " 0.78418972        nan        nan        nan        nan        nan\n",
      " 0.70059289 0.73537549 0.73992095 0.75355731 0.80177866 0.72332016\n",
      " 0.74031621 0.77529644 0.76640316 0.79703557 0.74920949 0.7527668\n",
      " 0.78399209 0.78438735 0.79743083 0.7187747  0.74940711 0.79268775\n",
      " 0.79743083 0.81936759        nan        nan        nan        nan\n",
      "        nan 0.70968379 0.76660079 0.77588933 0.74940711 0.77549407\n",
      " 0.72252964 0.77470356 0.77944664 0.78873518 0.81462451 0.77924901\n",
      " 0.75355731 0.75434783 0.78893281 0.80632411 0.72727273 0.77094862\n",
      " 0.76245059 0.77944664 0.77509881        nan        nan        nan\n",
      "        nan        nan 0.70494071 0.69209486 0.75375494 0.74466403\n",
      " 0.79288538 0.64743083 0.77094862 0.74407115 0.80592885 0.80612648\n",
      " 0.73201581 0.7715415  0.80612648 0.80118577 0.79229249 0.72272727\n",
      " 0.77094862 0.81956522 0.74841897 0.78438735        nan        nan\n",
      "        nan        nan        nan 0.67332016 0.70849802 0.72193676\n",
      " 0.73972332 0.73517787 0.72766798 0.72213439 0.72272727 0.76185771\n",
      " 0.80098814 0.71324111 0.74802372 0.73517787 0.73557312 0.76719368\n",
      " 0.69209486 0.68735178 0.77509881 0.72608696 0.76620553        nan\n",
      "        nan        nan        nan        nan 0.66422925 0.76620553\n",
      " 0.73083004 0.76719368 0.76205534 0.66996047 0.74426877 0.75237154\n",
      " 0.7444664  0.73952569 0.64782609 0.70909091 0.77094862 0.75770751\n",
      " 0.75810277 0.70059289 0.7229249  0.75375494 0.77529644 0.7486166\n",
      "        nan        nan        nan        nan        nan 0.74881423\n",
      " 0.77035573 0.77193676 0.79762846 0.78814229 0.74525692 0.75237154\n",
      " 0.77549407 0.78379447 0.81521739 0.69150198 0.78399209 0.73952569\n",
      " 0.78853755 0.78893281 0.66541502 0.77134387 0.80158103 0.78833992\n",
      " 0.79762846        nan        nan        nan        nan        nan\n",
      " 0.68774704 0.72628458 0.81067194 0.7798419  0.81482213 0.74881423\n",
      " 0.71343874 0.81501976 0.79743083 0.80098814 0.76620553 0.77490119\n",
      " 0.81956522 0.82371542 0.80158103 0.75316206 0.74486166 0.76679842\n",
      " 0.77450593 0.79644269        nan        nan        nan        nan\n",
      "        nan 0.69249012 0.78418972 0.76264822 0.81007905 0.79268775\n",
      " 0.68379447 0.76245059 0.77529644 0.80612648 0.81067194 0.6743083\n",
      " 0.73498024 0.77134387 0.77094862 0.78913043 0.6784585  0.78003953\n",
      " 0.78399209 0.79288538 0.80711462        nan        nan        nan\n",
      "        nan        nan 0.70434783 0.80118577 0.7270751  0.80197628\n",
      " 0.8027668  0.70533597 0.78833992 0.78418972 0.77944664 0.7798419\n",
      " 0.72747036 0.79328063 0.77549407 0.79762846 0.81027668 0.67371542\n",
      " 0.75770751 0.75316206 0.83280632 0.79782609        nan        nan\n",
      "        nan        nan        nan 0.71818182 0.73992095 0.78458498\n",
      " 0.75790514 0.77114625 0.74960474 0.74387352 0.76620553 0.80612648\n",
      " 0.78913043 0.73577075 0.78399209 0.77588933 0.80197628 0.77470356\n",
      " 0.70909091 0.75355731 0.78873518 0.7715415  0.81027668        nan\n",
      "        nan        nan        nan        nan 0.68656126 0.73577075\n",
      " 0.76146245 0.79762846 0.76640316 0.69565217 0.72233202 0.77213439\n",
      " 0.7798419  0.81047431 0.72727273 0.72252964 0.77114625 0.78913043\n",
      " 0.77549407 0.75039526 0.69110672 0.77094862 0.81541502 0.8013834\n",
      "        nan        nan        nan        nan        nan 0.73557312\n",
      " 0.75909091 0.7270751  0.76264822 0.80592885 0.70434783 0.76086957\n",
      " 0.77964427 0.79782609 0.80158103 0.70118577 0.75750988 0.81897233\n",
      " 0.79743083 0.81521739 0.68695652 0.73043478 0.74426877 0.78003953\n",
      " 0.78023715        nan        nan        nan        nan        nan\n",
      " 0.73181818 0.71363636 0.79762846 0.78399209 0.793083   0.78003953\n",
      " 0.75296443 0.75731225 0.76600791 0.7972332  0.73083004 0.80652174\n",
      " 0.7756917  0.793083   0.79328063 0.66541502 0.77055336 0.75256917\n",
      " 0.77114625 0.78399209        nan        nan        nan        nan\n",
      "        nan 0.70039526 0.71363636 0.75296443 0.77529644 0.76581028\n",
      " 0.68675889 0.73517787 0.73616601 0.74940711 0.73142292 0.62885375\n",
      " 0.76245059 0.73102767 0.75355731 0.74881423 0.6826087  0.71699605\n",
      " 0.73972332 0.73972332 0.79249012        nan        nan        nan\n",
      "        nan        nan 0.7187747  0.74031621 0.73932806 0.76640316\n",
      " 0.80592885 0.61640316 0.74407115 0.80197628 0.75296443 0.7444664\n",
      " 0.65335968 0.73537549 0.76620553 0.76185771 0.7444664  0.74802372\n",
      " 0.756917   0.76699605 0.78833992 0.77134387        nan        nan\n",
      "        nan        nan        nan 0.70079051 0.77944664 0.74881423\n",
      " 0.82371542 0.78458498 0.75335968 0.76185771 0.793083   0.74920949\n",
      " 0.79249012 0.70454545 0.75711462 0.76166008 0.78399209 0.76166008\n",
      " 0.63438735 0.77687747 0.81462451 0.76719368 0.76679842        nan\n",
      "        nan        nan        nan        nan 0.7444664  0.7756917\n",
      " 0.75375494 0.793083   0.79268775 0.68735178 0.75711462 0.793083\n",
      " 0.78379447 0.79743083 0.69683794 0.72747036 0.81521739 0.77944664\n",
      " 0.80592885 0.7583004  0.76660079 0.79268775 0.80158103 0.76660079\n",
      "        nan        nan        nan        nan        nan 0.67826087\n",
      " 0.7486166  0.73142292 0.80592885 0.79268775 0.75355731 0.7715415\n",
      " 0.78003953 0.79683794 0.8013834  0.72252964 0.77944664 0.77075099\n",
      " 0.81501976 0.77035573 0.73952569 0.73498024 0.78399209 0.7972332\n",
      " 0.77094862        nan        nan        nan        nan        nan\n",
      " 0.67786561 0.74841897 0.74071146 0.80592885 0.78438735 0.69189723\n",
      " 0.78893281 0.78893281 0.77114625 0.75750988 0.73992095 0.78359684\n",
      " 0.81086957 0.7756917  0.81067194 0.68833992 0.78379447 0.7798419\n",
      " 0.7798419  0.77509881        nan        nan        nan        nan\n",
      "        nan 0.70019763 0.77134387 0.77094862 0.80197628 0.78359684\n",
      " 0.71798419 0.7312253  0.76640316 0.77549407 0.76225296 0.66462451\n",
      " 0.75335968 0.80652174 0.78003953 0.80632411 0.7187747  0.79743083\n",
      " 0.78399209 0.79743083 0.78359684        nan        nan        nan\n",
      "        nan        nan 0.73162055 0.77114625 0.77509881 0.77035573\n",
      " 0.78458498 0.65592885 0.76225296 0.75750988 0.79703557 0.78853755\n",
      " 0.69604743 0.74071146 0.80158103 0.79328063 0.79703557 0.71363636\n",
      " 0.74051383 0.79268775 0.77549407 0.77588933        nan        nan\n",
      "        nan        nan        nan 0.6798419  0.78794466 0.7583004\n",
      " 0.80612648 0.80592885 0.69328063 0.73537549 0.74090909 0.77964427\n",
      " 0.78833992 0.72667984 0.76660079 0.7798419  0.77588933 0.79822134\n",
      " 0.72312253 0.77075099 0.77944664 0.75296443 0.77588933        nan\n",
      "        nan        nan        nan        nan 0.68754941 0.74505929\n",
      " 0.78003953 0.74901186 0.78438735 0.71422925 0.73181818 0.78893281\n",
      " 0.77549407 0.79328063 0.72727273 0.72608696 0.7527668  0.81541502\n",
      " 0.7972332  0.69980237 0.72648221 0.79288538 0.76620553 0.78438735]\n",
      "  warnings.warn(\n"
     ]
    },
    {
     "data": {
      "text/html": [
       "<style>#sk-container-id-1 {color: black;background-color: white;}#sk-container-id-1 pre{padding: 0;}#sk-container-id-1 div.sk-toggleable {background-color: white;}#sk-container-id-1 label.sk-toggleable__label {cursor: pointer;display: block;width: 100%;margin-bottom: 0;padding: 0.3em;box-sizing: border-box;text-align: center;}#sk-container-id-1 label.sk-toggleable__label-arrow:before {content: \"▸\";float: left;margin-right: 0.25em;color: #696969;}#sk-container-id-1 label.sk-toggleable__label-arrow:hover:before {color: black;}#sk-container-id-1 div.sk-estimator:hover label.sk-toggleable__label-arrow:before {color: black;}#sk-container-id-1 div.sk-toggleable__content {max-height: 0;max-width: 0;overflow: hidden;text-align: left;background-color: #f0f8ff;}#sk-container-id-1 div.sk-toggleable__content pre {margin: 0.2em;color: black;border-radius: 0.25em;background-color: #f0f8ff;}#sk-container-id-1 input.sk-toggleable__control:checked~div.sk-toggleable__content {max-height: 200px;max-width: 100%;overflow: auto;}#sk-container-id-1 input.sk-toggleable__control:checked~label.sk-toggleable__label-arrow:before {content: \"▾\";}#sk-container-id-1 div.sk-estimator input.sk-toggleable__control:checked~label.sk-toggleable__label {background-color: #d4ebff;}#sk-container-id-1 div.sk-label input.sk-toggleable__control:checked~label.sk-toggleable__label {background-color: #d4ebff;}#sk-container-id-1 input.sk-hidden--visually {border: 0;clip: rect(1px 1px 1px 1px);clip: rect(1px, 1px, 1px, 1px);height: 1px;margin: -1px;overflow: hidden;padding: 0;position: absolute;width: 1px;}#sk-container-id-1 div.sk-estimator {font-family: monospace;background-color: #f0f8ff;border: 1px dotted black;border-radius: 0.25em;box-sizing: border-box;margin-bottom: 0.5em;}#sk-container-id-1 div.sk-estimator:hover {background-color: #d4ebff;}#sk-container-id-1 div.sk-parallel-item::after {content: \"\";width: 100%;border-bottom: 1px solid gray;flex-grow: 1;}#sk-container-id-1 div.sk-label:hover label.sk-toggleable__label {background-color: #d4ebff;}#sk-container-id-1 div.sk-serial::before {content: \"\";position: absolute;border-left: 1px solid gray;box-sizing: border-box;top: 0;bottom: 0;left: 50%;z-index: 0;}#sk-container-id-1 div.sk-serial {display: flex;flex-direction: column;align-items: center;background-color: white;padding-right: 0.2em;padding-left: 0.2em;position: relative;}#sk-container-id-1 div.sk-item {position: relative;z-index: 1;}#sk-container-id-1 div.sk-parallel {display: flex;align-items: stretch;justify-content: center;background-color: white;position: relative;}#sk-container-id-1 div.sk-item::before, #sk-container-id-1 div.sk-parallel-item::before {content: \"\";position: absolute;border-left: 1px solid gray;box-sizing: border-box;top: 0;bottom: 0;left: 50%;z-index: -1;}#sk-container-id-1 div.sk-parallel-item {display: flex;flex-direction: column;z-index: 1;position: relative;background-color: white;}#sk-container-id-1 div.sk-parallel-item:first-child::after {align-self: flex-end;width: 50%;}#sk-container-id-1 div.sk-parallel-item:last-child::after {align-self: flex-start;width: 50%;}#sk-container-id-1 div.sk-parallel-item:only-child::after {width: 0;}#sk-container-id-1 div.sk-dashed-wrapped {border: 1px dashed gray;margin: 0 0.4em 0.5em 0.4em;box-sizing: border-box;padding-bottom: 0.4em;background-color: white;}#sk-container-id-1 div.sk-label label {font-family: monospace;font-weight: bold;display: inline-block;line-height: 1.2em;}#sk-container-id-1 div.sk-label-container {text-align: center;}#sk-container-id-1 div.sk-container {/* jupyter's `normalize.less` sets `[hidden] { display: none; }` but bootstrap.min.css set `[hidden] { display: none !important; }` so we also need the `!important` here to be able to override the default hidden behavior on the sphinx rendered scikit-learn.org. See: https://github.com/scikit-learn/scikit-learn/issues/21755 */display: inline-block !important;position: relative;}#sk-container-id-1 div.sk-text-repr-fallback {display: none;}</style><div id=\"sk-container-id-1\" class=\"sk-top-container\"><div class=\"sk-text-repr-fallback\"><pre>GridSearchCV(cv=10, estimator=RandomForestClassifier(), n_jobs=-1,\n",
       "             param_grid={&#x27;criterion&#x27;: (&#x27;gini&#x27;, &#x27;entropy&#x27;, &#x27;log_loss&#x27;),\n",
       "                         &#x27;max_depth&#x27;: range(1, 10, 2),\n",
       "                         &#x27;max_features&#x27;: (&#x27;sqrt&#x27;, &#x27;log2&#x27;),\n",
       "                         &#x27;min_samples_split&#x27;: range(1, 10, 2),\n",
       "                         &#x27;n_estimators&#x27;: range(1, 10, 2)})</pre><b>In a Jupyter environment, please rerun this cell to show the HTML representation or trust the notebook. <br />On GitHub, the HTML representation is unable to render, please try loading this page with nbviewer.org.</b></div><div class=\"sk-container\" hidden><div class=\"sk-item sk-dashed-wrapped\"><div class=\"sk-label-container\"><div class=\"sk-label sk-toggleable\"><input class=\"sk-toggleable__control sk-hidden--visually\" id=\"sk-estimator-id-1\" type=\"checkbox\" ><label for=\"sk-estimator-id-1\" class=\"sk-toggleable__label sk-toggleable__label-arrow\">GridSearchCV</label><div class=\"sk-toggleable__content\"><pre>GridSearchCV(cv=10, estimator=RandomForestClassifier(), n_jobs=-1,\n",
       "             param_grid={&#x27;criterion&#x27;: (&#x27;gini&#x27;, &#x27;entropy&#x27;, &#x27;log_loss&#x27;),\n",
       "                         &#x27;max_depth&#x27;: range(1, 10, 2),\n",
       "                         &#x27;max_features&#x27;: (&#x27;sqrt&#x27;, &#x27;log2&#x27;),\n",
       "                         &#x27;min_samples_split&#x27;: range(1, 10, 2),\n",
       "                         &#x27;n_estimators&#x27;: range(1, 10, 2)})</pre></div></div></div><div class=\"sk-parallel\"><div class=\"sk-parallel-item\"><div class=\"sk-item\"><div class=\"sk-label-container\"><div class=\"sk-label sk-toggleable\"><input class=\"sk-toggleable__control sk-hidden--visually\" id=\"sk-estimator-id-2\" type=\"checkbox\" ><label for=\"sk-estimator-id-2\" class=\"sk-toggleable__label sk-toggleable__label-arrow\">estimator: RandomForestClassifier</label><div class=\"sk-toggleable__content\"><pre>RandomForestClassifier()</pre></div></div></div><div class=\"sk-serial\"><div class=\"sk-item\"><div class=\"sk-estimator sk-toggleable\"><input class=\"sk-toggleable__control sk-hidden--visually\" id=\"sk-estimator-id-3\" type=\"checkbox\" ><label for=\"sk-estimator-id-3\" class=\"sk-toggleable__label sk-toggleable__label-arrow\">RandomForestClassifier</label><div class=\"sk-toggleable__content\"><pre>RandomForestClassifier()</pre></div></div></div></div></div></div></div></div></div></div>"
      ],
      "text/plain": [
       "GridSearchCV(cv=10, estimator=RandomForestClassifier(), n_jobs=-1,\n",
       "             param_grid={'criterion': ('gini', 'entropy', 'log_loss'),\n",
       "                         'max_depth': range(1, 10, 2),\n",
       "                         'max_features': ('sqrt', 'log2'),\n",
       "                         'min_samples_split': range(1, 10, 2),\n",
       "                         'n_estimators': range(1, 10, 2)})"
      ]
     },
     "execution_count": 5,
     "metadata": {},
     "output_type": "execute_result"
    }
   ],
   "source": [
    "gsc = GridSearchCV(RandomForestClassifier(),param_grid={\n",
    "    'n_estimators':range(1,10,2),\n",
    "    'criterion':('gini','entropy','log_loss'),\n",
    "    'max_depth':range(1,10,2),\n",
    "    'min_samples_split':range(1,10,2),\n",
    "    'max_features':('sqrt','log2'),\n",
    "},cv=10,n_jobs=-1)\n",
    "gsc.fit(x_train,y_train)"
   ]
  },
  {
   "cell_type": "code",
   "execution_count": 6,
   "metadata": {},
   "outputs": [
    {
     "data": {
      "text/plain": [
       "0.8371541501976285"
      ]
     },
     "execution_count": 6,
     "metadata": {},
     "output_type": "execute_result"
    }
   ],
   "source": [
    "gsc.best_score_"
   ]
  },
  {
   "cell_type": "code",
   "execution_count": 7,
   "metadata": {},
   "outputs": [
    {
     "data": {
      "text/plain": [
       "{'criterion': 'gini',\n",
       " 'max_depth': 5,\n",
       " 'max_features': 'log2',\n",
       " 'min_samples_split': 3,\n",
       " 'n_estimators': 9}"
      ]
     },
     "execution_count": 7,
     "metadata": {},
     "output_type": "execute_result"
    }
   ],
   "source": [
    "gsc.best_params_"
   ]
  },
  {
   "cell_type": "code",
   "execution_count": 8,
   "metadata": {},
   "outputs": [
    {
     "data": {
      "text/plain": [
       "134"
      ]
     },
     "execution_count": 8,
     "metadata": {},
     "output_type": "execute_result"
    }
   ],
   "source": [
    "gsc.best_index_"
   ]
  },
  {
   "cell_type": "code",
   "execution_count": null,
   "metadata": {},
   "outputs": [],
   "source": []
  }
 ],
 "metadata": {
  "kernelspec": {
   "display_name": "env",
   "language": "python",
   "name": "python3"
  },
  "language_info": {
   "codemirror_mode": {
    "name": "ipython",
    "version": 3
   },
   "file_extension": ".py",
   "mimetype": "text/x-python",
   "name": "python",
   "nbconvert_exporter": "python",
   "pygments_lexer": "ipython3",
   "version": "3.11.4"
  },
  "orig_nbformat": 4
 },
 "nbformat": 4,
 "nbformat_minor": 2
}
