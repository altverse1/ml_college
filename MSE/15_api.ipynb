{
 "cells": [
  {
   "cell_type": "code",
   "execution_count": 7,
   "metadata": {},
   "outputs": [],
   "source": [
    "import requests\n",
    "from datetime import datetime, timedelta\n",
    "import pandas as pd"
   ]
  },
  {
   "cell_type": "code",
   "execution_count": 10,
   "metadata": {},
   "outputs": [],
   "source": [
    "def get_data(api_key, city):\n",
    "    pre_df = []\n",
    "    end_date = datetime.now().strftime('%Y-%m-%d')\n",
    "    start_date = (datetime.now()-timedelta(days=7)).strftime('%Y-%m-%d')\n",
    "                                       \n",
    "    url = f'http://api.weatherapi.com/v1/history.json?key={api_key}&q={city}&dt={start_date}&end_dt={end_date}'\n",
    "    response = requests.get(url)\n",
    "    data = response.json()\n",
    "    if 'error' in data:\n",
    "        print('There is some error.')\n",
    "    else:\n",
    "        days = data['forecast']['forecastday']\n",
    "        for day in days:   \n",
    "            date = day['date']\n",
    "            temp = day['day']['avgtemp_c']\n",
    "            humidity = day['day']['avghumidity']\n",
    "            desc = day['day']['condition']['text']\n",
    "            pre_df.append([date,temp,humidity,desc])\n",
    "        df = pd.DataFrame(pre_df,columns=['date','temp','humidity','desc'])\n",
    "        df.to_csv('weather.csv')\n",
    "            \n",
    "\n",
    "api_key = 'YourApi'\n",
    "city = 'Udupi'\n",
    "get_data(api_key, city)"
   ]
  },
  {
   "cell_type": "code",
   "execution_count": null,
   "metadata": {},
   "outputs": [],
   "source": []
  }
 ],
 "metadata": {
  "kernelspec": {
   "display_name": "Python 3",
   "language": "python",
   "name": "python3"
  },
  "language_info": {
   "codemirror_mode": {
    "name": "ipython",
    "version": 3
   },
   "file_extension": ".py",
   "mimetype": "text/x-python",
   "name": "python",
   "nbconvert_exporter": "python",
   "pygments_lexer": "ipython3",
   "version": "3.11.3"
  },
  "orig_nbformat": 4
 },
 "nbformat": 4,
 "nbformat_minor": 2
}
